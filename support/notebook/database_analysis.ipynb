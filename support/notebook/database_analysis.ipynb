{
 "cells": [
  {
   "cell_type": "markdown",
   "metadata": {},
   "source": [
    "## Base de datos\n",
    "La base de datos a ser utilizada es la [Acoustic path database for ANC in-ear headphone development](https://www.iks.rwth-aachen.de/forschung/tools-downloads/databases/paths-for-active-noise-cancellation-development-and-research) de la universidad de Aachen, Alemania.\n",
    "\n",
    "Proveen mediciones del \"Electronic Backend\", que es la respuesta en frecuencia del conjunto ADC-DAC y filtrado anti-alias.\n",
    "\n",
    "Miden en dos lugares, una cabina acústica (Acoustic Booth) y una cámara semi-anecoica.\n",
    "\n",
    "$f_s = 48kHz$, 194400 muestras, 4.05 segundos de sweep logarítmico.\n",
    "\n",
    "\n"
   ]
  },
  {
   "cell_type": "code",
   "execution_count": 1,
   "metadata": {},
   "outputs": [],
   "source": [
    "from scipy.io import loadmat"
   ]
  },
  {
   "cell_type": "code",
   "execution_count": 2,
   "metadata": {},
   "outputs": [],
   "source": [
    "folder = \"../../PANDAR_database_1.0/BoseQC20/acoustic_booth/persons/\"\n",
    "file = \"PANDAR_TF_001_person_BoseQC20.ita\"\n",
    "path = folder + file"
   ]
  },
  {
   "cell_type": "code",
   "execution_count": 3,
   "metadata": {},
   "outputs": [],
   "source": [
    "mat = loadmat(path)"
   ]
  },
  {
   "cell_type": "code",
   "execution_count": 4,
   "metadata": {},
   "outputs": [
    {
     "name": "stdout",
     "output_type": "stream",
     "text": [
      "dict_keys(['__header__', '__version__', '__globals__', 'ITA_TOOLBOX_AUDIO_OBJECT', '__function_workspace__'])\n"
     ]
    }
   ],
   "source": [
    "print(mat.keys())"
   ]
  },
  {
   "cell_type": "code",
   "execution_count": 5,
   "metadata": {},
   "outputs": [
    {
     "name": "stdout",
     "output_type": "stream",
     "text": [
      "b'MATLAB 5.0 MAT-file, Platform: PCWIN64, Created on: Tue Sep 10 14:49:31 2019'\n",
      "[[(array(['itaAudio'], dtype='<U8'), array([[12930]], dtype=uint16), array(['Person ID 1'], dtype='<U11'), array([], shape=(0, 0), dtype=uint8), array([], shape=(0, 0), dtype=object), array([], shape=(0, 0), dtype=uint8), array([[737490.88972669]]), array([[2019.   ,    9.   ,   10.   ,   14.   ,   49.   ,   31.208]]), array([[2019.   ,    9.   ,   10.   ,   14.   ,   49.   ,   31.222]]), array([[(array([[1]], dtype=uint8), array([[25]], dtype=uint8), array(['Male'], dtype='<U4'), array(['2017_10_16'], dtype='<U10'), array(['BoseQC20'], dtype='<U8'), array([[0.00039849]]), array([[9.78497117e-35],\n",
      "       [1.20611050e-06],\n",
      "       [1.14470618e-06],\n",
      "       ...,\n",
      "       [2.24310261e-14],\n",
      "       [2.71815782e-14],\n",
      "       [1.59283040e-15]]), array(['person'], dtype='<U6'), array(['neumann_kh120'], dtype='<U13'), array(['lateral left'], dtype='<U12'), array(['dSPACE'], dtype='<U6'), array(['Studiobox PREMIUM'], dtype='<U17'), array(['normal'], dtype='<U6'), array(['normal'], dtype='<U6'))]],\n",
      "      dtype=[('ID', 'O'), ('age', 'O'), ('gender', 'O'), ('dateStr', 'O'), ('audioFrontend', 'O'), ('var_norm', 'O'), ('var_freq', 'O'), ('category', 'O'), ('externalExcitationDevice', 'O'), ('externalExcitationDevicePosition', 'O'), ('measurementDevice', 'O'), ('measurementPlace', 'O'), ('fittingLeft', 'O'), ('fittingRight', 'O')]), array([], shape=(0, 0), dtype=object), array([], shape=(0, 0), dtype=object), array(['Stefan Liebich Mobil'], dtype='<U20'), array(['time'], dtype='<U4'), array([[ 1.24899177e-04, -1.38869474e-04, -3.88568552e-05,\n",
      "        -5.68740074e-05, -4.69259703e-03,  2.16703331e-02],\n",
      "       [-5.57798558e-05,  3.11269888e-04, -5.79521168e-05,\n",
      "        -1.07251442e-04, -4.25462582e-03,  2.45420728e-02],\n",
      "       [ 8.78081971e-03,  7.68555082e-03,  1.35951573e-04,\n",
      "         1.30946002e-04,  4.41719174e-03,  2.98258770e-02],\n",
      "       ...,\n",
      "       [-0.00000000e+00,  0.00000000e+00,  0.00000000e+00,\n",
      "         0.00000000e+00,  2.64161342e-03, -2.13989567e-02],\n",
      "       [-0.00000000e+00,  0.00000000e+00, -0.00000000e+00,\n",
      "        -0.00000000e+00, -4.39810705e-04, -1.68962398e-02],\n",
      "       [-0.00000000e+00,  0.00000000e+00,  0.00000000e+00,\n",
      "         0.00000000e+00, -3.69639032e-04,  5.52140184e-03]]), array([[6]], dtype=uint8), array([[array(['SecondaryL'], dtype='<U10')],\n",
      "       [array(['SecondaryR'], dtype='<U10')],\n",
      "       [array(['FeedbackL'], dtype='<U9')],\n",
      "       [array(['FeedbackR'], dtype='<U9')],\n",
      "       [array(['PrimaryL'], dtype='<U8')],\n",
      "       [array(['PrimaryR'], dtype='<U8')]], dtype=object), array([[array([], dtype='<U1')],\n",
      "       [array([], dtype='<U1')],\n",
      "       [array([], dtype='<U1')],\n",
      "       [array([], dtype='<U1')],\n",
      "       [array([], dtype='<U1')],\n",
      "       [array([], dtype='<U1')]], dtype=object), MatlabOpaque([(b'', b'MCOS', b'itaCoordinates', array([[3707764736],\n",
      "       [         2],\n",
      "       [         1],\n",
      "       [         1],\n",
      "       [         1],\n",
      "       [         1]], dtype=uint32))],\n",
      "             dtype=[('s0', 'O'), ('s1', 'O'), ('s2', 'O'), ('arr', 'O')]), MatlabOpaque([(b'', b'MCOS', b'itaCoordinates', array([[3707764736],\n",
      "       [         2],\n",
      "       [         1],\n",
      "       [         1],\n",
      "       [         2],\n",
      "       [         1]], dtype=uint32))],\n",
      "             dtype=[('s0', 'O'), ('s1', 'O'), ('s2', 'O'), ('arr', 'O')]), array([[array([], dtype='<U1')],\n",
      "       [array([], dtype='<U1')],\n",
      "       [array([], dtype='<U1')],\n",
      "       [array([], dtype='<U1')],\n",
      "       [array([], dtype='<U1')],\n",
      "       [array([], dtype='<U1')]], dtype=object), array([[array([[array(['Person ID 1'], dtype='<U11'),\n",
      "        array(['SecondaryL'], dtype='<U10'),\n",
      "        array(['person'], dtype='<U6'), array(['normal'], dtype='<U6')]],\n",
      "      dtype=object)],\n",
      "       [array([[array(['Person ID 1'], dtype='<U11'),\n",
      "        array(['SecondaryR'], dtype='<U10'),\n",
      "        array(['person'], dtype='<U6'), array(['normal'], dtype='<U6')]],\n",
      "      dtype=object)],\n",
      "       [array([[array(['Person ID 1'], dtype='<U11'),\n",
      "        array(['FeedbackL'], dtype='<U9'),\n",
      "        array(['person'], dtype='<U6'), array(['normal'], dtype='<U6')]],\n",
      "      dtype=object)],\n",
      "       [array([[array(['Person ID 1'], dtype='<U11'),\n",
      "        array(['FeedbackR'], dtype='<U9'),\n",
      "        array(['person'], dtype='<U6'), array(['normal'], dtype='<U6')]],\n",
      "      dtype=object)],\n",
      "       [array([[array(['Person ID 1'], dtype='<U11'),\n",
      "        array(['MicInL'], dtype='<U6'), array(['person'], dtype='<U6'),\n",
      "        array(['normal'], dtype='<U6')]], dtype=object)],\n",
      "       [array([[array(['Person ID 1'], dtype='<U11'),\n",
      "        array(['MicInR'], dtype='<U6'), array(['person'], dtype='<U6'),\n",
      "        array(['normal'], dtype='<U6')]], dtype=object)]], dtype=object), array(['double'], dtype='<U6'), array(['double'], dtype='<U6'), array([[1]], dtype=uint8), array([[1]], dtype=uint8), MatlabOpaque([(b'', b'MCOS', b'itaCoordinates', array([[3707764736],\n",
      "       [         2],\n",
      "       [         1],\n",
      "       [         1],\n",
      "       [         3],\n",
      "       [         1]], dtype=uint32))],\n",
      "             dtype=[('s0', 'O'), ('s1', 'O'), ('s2', 'O'), ('arr', 'O')]), MatlabOpaque([(b'', b'MCOS', b'itaCoordinates', array([[3707764736],\n",
      "       [         2],\n",
      "       [         1],\n",
      "       [         1],\n",
      "       [         4],\n",
      "       [         1]], dtype=uint32))],\n",
      "             dtype=[('s0', 'O'), ('s1', 'O'), ('s2', 'O'), ('arr', 'O')]), MatlabOpaque([(b'', b'MCOS', b'itaCoordinates', array([[3707764736],\n",
      "       [         2],\n",
      "       [         1],\n",
      "       [         1],\n",
      "       [         5],\n",
      "       [         1]], dtype=uint32))],\n",
      "             dtype=[('s0', 'O'), ('s1', 'O'), ('s2', 'O'), ('arr', 'O')]), array([[48000]], dtype=uint16), array(['energy'], dtype='<U6'))]]\n"
     ]
    }
   ],
   "source": [
    "print(mat['__header__'])\n",
    "print(mat['ITA_TOOLBOX_AUDIO_OBJECT'])\n",
    "a = mat['ITA_TOOLBOX_AUDIO_OBJECT']"
   ]
  },
  {
   "cell_type": "code",
   "execution_count": 6,
   "metadata": {},
   "outputs": [
    {
     "name": "stdout",
     "output_type": "stream",
     "text": [
      "[[(array([[1]], dtype=uint8), array([[25]], dtype=uint8), array(['Male'], dtype='<U4'), array(['2017_10_16'], dtype='<U10'), array(['BoseQC20'], dtype='<U8'), array([[0.00039849]]), array([[9.78497117e-35],\n",
      "       [1.20611050e-06],\n",
      "       [1.14470618e-06],\n",
      "       ...,\n",
      "       [2.24310261e-14],\n",
      "       [2.71815782e-14],\n",
      "       [1.59283040e-15]]), array(['person'], dtype='<U6'), array(['neumann_kh120'], dtype='<U13'), array(['lateral left'], dtype='<U12'), array(['dSPACE'], dtype='<U6'), array(['Studiobox PREMIUM'], dtype='<U17'), array(['normal'], dtype='<U6'), array(['normal'], dtype='<U6'))]]\n",
      "(array(['itaAudio'], dtype='<U8'), array([[12930]], dtype=uint16), array(['Person ID 1'], dtype='<U11'), array([], shape=(0, 0), dtype=uint8), array([], shape=(0, 0), dtype=object), array([], shape=(0, 0), dtype=uint8), array([[737490.88972669]]), array([[2019.   ,    9.   ,   10.   ,   14.   ,   49.   ,   31.208]]), array([[2019.   ,    9.   ,   10.   ,   14.   ,   49.   ,   31.222]]), array([[(array([[1]], dtype=uint8), array([[25]], dtype=uint8), array(['Male'], dtype='<U4'), array(['2017_10_16'], dtype='<U10'), array(['BoseQC20'], dtype='<U8'), array([[0.00039849]]), array([[9.78497117e-35],\n",
      "       [1.20611050e-06],\n",
      "       [1.14470618e-06],\n",
      "       ...,\n",
      "       [2.24310261e-14],\n",
      "       [2.71815782e-14],\n",
      "       [1.59283040e-15]]), array(['person'], dtype='<U6'), array(['neumann_kh120'], dtype='<U13'), array(['lateral left'], dtype='<U12'), array(['dSPACE'], dtype='<U6'), array(['Studiobox PREMIUM'], dtype='<U17'), array(['normal'], dtype='<U6'), array(['normal'], dtype='<U6'))]],\n",
      "      dtype=[('ID', 'O'), ('age', 'O'), ('gender', 'O'), ('dateStr', 'O'), ('audioFrontend', 'O'), ('var_norm', 'O'), ('var_freq', 'O'), ('category', 'O'), ('externalExcitationDevice', 'O'), ('externalExcitationDevicePosition', 'O'), ('measurementDevice', 'O'), ('measurementPlace', 'O'), ('fittingLeft', 'O'), ('fittingRight', 'O')]), array([], shape=(0, 0), dtype=object), array([], shape=(0, 0), dtype=object), array(['Stefan Liebich Mobil'], dtype='<U20'), array(['time'], dtype='<U4'), array([[ 1.24899177e-04, -1.38869474e-04, -3.88568552e-05,\n",
      "        -5.68740074e-05, -4.69259703e-03,  2.16703331e-02],\n",
      "       [-5.57798558e-05,  3.11269888e-04, -5.79521168e-05,\n",
      "        -1.07251442e-04, -4.25462582e-03,  2.45420728e-02],\n",
      "       [ 8.78081971e-03,  7.68555082e-03,  1.35951573e-04,\n",
      "         1.30946002e-04,  4.41719174e-03,  2.98258770e-02],\n",
      "       ...,\n",
      "       [-0.00000000e+00,  0.00000000e+00,  0.00000000e+00,\n",
      "         0.00000000e+00,  2.64161342e-03, -2.13989567e-02],\n",
      "       [-0.00000000e+00,  0.00000000e+00, -0.00000000e+00,\n",
      "        -0.00000000e+00, -4.39810705e-04, -1.68962398e-02],\n",
      "       [-0.00000000e+00,  0.00000000e+00,  0.00000000e+00,\n",
      "         0.00000000e+00, -3.69639032e-04,  5.52140184e-03]]), array([[6]], dtype=uint8), array([[array(['SecondaryL'], dtype='<U10')],\n",
      "       [array(['SecondaryR'], dtype='<U10')],\n",
      "       [array(['FeedbackL'], dtype='<U9')],\n",
      "       [array(['FeedbackR'], dtype='<U9')],\n",
      "       [array(['PrimaryL'], dtype='<U8')],\n",
      "       [array(['PrimaryR'], dtype='<U8')]], dtype=object), array([[array([], dtype='<U1')],\n",
      "       [array([], dtype='<U1')],\n",
      "       [array([], dtype='<U1')],\n",
      "       [array([], dtype='<U1')],\n",
      "       [array([], dtype='<U1')],\n",
      "       [array([], dtype='<U1')]], dtype=object), MatlabOpaque([(b'', b'MCOS', b'itaCoordinates', array([[3707764736],\n",
      "       [         2],\n",
      "       [         1],\n",
      "       [         1],\n",
      "       [         1],\n",
      "       [         1]], dtype=uint32))],\n",
      "             dtype=[('s0', 'O'), ('s1', 'O'), ('s2', 'O'), ('arr', 'O')]), MatlabOpaque([(b'', b'MCOS', b'itaCoordinates', array([[3707764736],\n",
      "       [         2],\n",
      "       [         1],\n",
      "       [         1],\n",
      "       [         2],\n",
      "       [         1]], dtype=uint32))],\n",
      "             dtype=[('s0', 'O'), ('s1', 'O'), ('s2', 'O'), ('arr', 'O')]), array([[array([], dtype='<U1')],\n",
      "       [array([], dtype='<U1')],\n",
      "       [array([], dtype='<U1')],\n",
      "       [array([], dtype='<U1')],\n",
      "       [array([], dtype='<U1')],\n",
      "       [array([], dtype='<U1')]], dtype=object), array([[array([[array(['Person ID 1'], dtype='<U11'),\n",
      "        array(['SecondaryL'], dtype='<U10'),\n",
      "        array(['person'], dtype='<U6'), array(['normal'], dtype='<U6')]],\n",
      "      dtype=object)],\n",
      "       [array([[array(['Person ID 1'], dtype='<U11'),\n",
      "        array(['SecondaryR'], dtype='<U10'),\n",
      "        array(['person'], dtype='<U6'), array(['normal'], dtype='<U6')]],\n",
      "      dtype=object)],\n",
      "       [array([[array(['Person ID 1'], dtype='<U11'),\n",
      "        array(['FeedbackL'], dtype='<U9'),\n",
      "        array(['person'], dtype='<U6'), array(['normal'], dtype='<U6')]],\n",
      "      dtype=object)],\n",
      "       [array([[array(['Person ID 1'], dtype='<U11'),\n",
      "        array(['FeedbackR'], dtype='<U9'),\n",
      "        array(['person'], dtype='<U6'), array(['normal'], dtype='<U6')]],\n",
      "      dtype=object)],\n",
      "       [array([[array(['Person ID 1'], dtype='<U11'),\n",
      "        array(['MicInL'], dtype='<U6'), array(['person'], dtype='<U6'),\n",
      "        array(['normal'], dtype='<U6')]], dtype=object)],\n",
      "       [array([[array(['Person ID 1'], dtype='<U11'),\n",
      "        array(['MicInR'], dtype='<U6'), array(['person'], dtype='<U6'),\n",
      "        array(['normal'], dtype='<U6')]], dtype=object)]], dtype=object), array(['double'], dtype='<U6'), array(['double'], dtype='<U6'), array([[1]], dtype=uint8), array([[1]], dtype=uint8), MatlabOpaque([(b'', b'MCOS', b'itaCoordinates', array([[3707764736],\n",
      "       [         2],\n",
      "       [         1],\n",
      "       [         1],\n",
      "       [         3],\n",
      "       [         1]], dtype=uint32))],\n",
      "             dtype=[('s0', 'O'), ('s1', 'O'), ('s2', 'O'), ('arr', 'O')]), MatlabOpaque([(b'', b'MCOS', b'itaCoordinates', array([[3707764736],\n",
      "       [         2],\n",
      "       [         1],\n",
      "       [         1],\n",
      "       [         4],\n",
      "       [         1]], dtype=uint32))],\n",
      "             dtype=[('s0', 'O'), ('s1', 'O'), ('s2', 'O'), ('arr', 'O')]), MatlabOpaque([(b'', b'MCOS', b'itaCoordinates', array([[3707764736],\n",
      "       [         2],\n",
      "       [         1],\n",
      "       [         1],\n",
      "       [         5],\n",
      "       [         1]], dtype=uint32))],\n",
      "             dtype=[('s0', 'O'), ('s1', 'O'), ('s2', 'O'), ('arr', 'O')]), array([[48000]], dtype=uint16), array(['energy'], dtype='<U6'))\n"
     ]
    }
   ],
   "source": [
    "print(a[0,0][9])\n",
    "print(a[0,0])\n"
   ]
  },
  {
   "cell_type": "code",
   "execution_count": null,
   "metadata": {},
   "outputs": [],
   "source": []
  }
 ],
 "metadata": {
  "kernelspec": {
   "display_name": "Python 3",
   "language": "python",
   "name": "python3"
  },
  "language_info": {
   "codemirror_mode": {
    "name": "ipython",
    "version": 3
   },
   "file_extension": ".py",
   "mimetype": "text/x-python",
   "name": "python",
   "nbconvert_exporter": "python",
   "pygments_lexer": "ipython3",
   "version": "3.7.6"
  }
 },
 "nbformat": 4,
 "nbformat_minor": 4
}
